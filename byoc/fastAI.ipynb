{
 "cells": [
  {
   "cell_type": "markdown",
   "metadata": {},
   "source": [
    "<div style=\"text-align: right\"> &uarr;   Ensure Kernel is set to  &uarr;  </div><br><div style=\"text-align: right\"> \n",
    "Python 3 (Data Science)</div>"
   ]
  },
  {
   "cell_type": "code",
   "execution_count": null,
   "metadata": {},
   "outputs": [],
   "source": [
    "!pip install -U sagemaker\n",
    "!pip install sagemaker-studio-image-build\n",
    "#restart your kernel"
   ]
  },
  {
   "cell_type": "markdown",
   "metadata": {},
   "source": [
    "# FastAI Training using SageMaker Bring your own Container (BYOC)\n",
    "\n",
    "In this notebook, we will cover how to bring our own container with either a framework or algorithm to train a model on SageMaker. \n",
    "\n",
    "We will use fastai in this case and build our container with custom training code integrated into the container. The other option is to use script mode which is easily done by changing the entrypoint.\n",
    "\n",
    "The outline of this notebook is \n",
    "\n",
    "1. Build docker a image for FastAI and serving and training code (provided).\n",
    "\n",
    "2. Use the FastAI container image in SageMaker to train our model \n",
    "\n",
    "3. Deploy model to endpoint using the container image\n",
    "\n",
    "4. Test inference using an image in couple of possible ways "
   ]
  },
  {
   "cell_type": "markdown",
   "metadata": {},
   "source": [
    "#### Container Image\n",
    "Let's start with building a container image locally and then push that to ECR (Elastic Container Registry)"
   ]
  },
  {
   "cell_type": "code",
   "execution_count": null,
   "metadata": {},
   "outputs": [],
   "source": [
    "import os\n",
    "envs = dict(os.environ)\n",
    "home_dir = envs.get('HOME')\n",
    "home_dir_base = ''"
   ]
  },
  {
   "cell_type": "code",
   "execution_count": null,
   "metadata": {},
   "outputs": [],
   "source": [
    "if 'ec2-user' in home_dir:\n",
    "    # In SageMaker Notebook Environment\n",
    "    home_dir_base = f'~/SageMaker/pssummitwkshp/byoc/docker'\n",
    "else:\n",
    "    # In SageMaker Studio Environment\n",
    "    home_dir_base = f'~/pssummitwkshp/byoc/docker'"
   ]
  },
  {
   "cell_type": "code",
   "execution_count": null,
   "metadata": {},
   "outputs": [],
   "source": [
    "%cd $home_dir_base"
   ]
  },
  {
   "cell_type": "markdown",
   "metadata": {},
   "source": [
    "## Set the ecr details and tags \n",
    "Lets set a few params here like ecr name space , tag name etc."
   ]
  },
  {
   "cell_type": "code",
   "execution_count": null,
   "metadata": {},
   "outputs": [],
   "source": [
    "from sagemaker import get_execution_role\n",
    "import boto3\n",
    "ecr_namespace = \"sagemaker-training-containers/\"\n",
    "prefix = \"script-mode-container-fastai\"\n",
    "\n",
    "ecr_repository_name = ecr_namespace + prefix\n",
    "role = get_execution_role()\n",
    "account_id = role.split(\":\")[4]\n",
    "region = boto3.Session().region_name\n",
    "tag_name=ecr_repository_name+':latest'"
   ]
  },
  {
   "cell_type": "markdown",
   "metadata": {},
   "source": [
    "We will now use sm-docker to build the docker image<br>\n",
    "sm-docker is a tool that allows the user to build and push a docker image to ECR in SageMakerStudio",
    "**Note:** This cell takes around **8 mins** to run"
   ]
  },
  {
   "cell_type": "code",
   "execution_count": null,
   "metadata": {},
   "outputs": [],
   "source": [
    "%%time\n",
    "!sm-docker build . --repository $tag_name"
   ]
  },
  {
   "cell_type": "code",
   "execution_count": null,
   "metadata": {},
   "outputs": [],
   "source": [
    "container_image_uri = f\"{account_id}.dkr.ecr.{region}.amazonaws.com/{tag_name}\"\n",
    "print(container_image_uri)"
   ]
  },
  {
   "cell_type": "markdown",
   "metadata": {},
   "source": [
    "#### Call your custom container to train the model\n",
    "\n",
    "In the cell below, replace **your-unique-bucket-name** with the name of bucket you created in the data-prep notebook<br>\n",
    "**Note:** This cell takes around **20 mins** to run"
   ]
  },
  {
   "cell_type": "code",
   "execution_count": null,
   "metadata": {},
   "outputs": [],
   "source": [
    "%%time\n",
    "import sagemaker\n",
    "import json\n",
    "\n",
    "bucket = \"your-unique-bucket-name\"\n",
    "\n",
    "\n",
    "# JSON encode hyperparameters\n",
    "def json_encode_hyperparameters(hyperparameters):\n",
    "    return {str(k): json.dumps(v) for (k, v) in hyperparameters.items()}\n",
    "\n",
    "\n",
    "hyperparameters = json_encode_hyperparameters({\"lr\":1e-03})\n",
    "\n",
    "est = sagemaker.estimator.Estimator(\n",
    "    container_image_uri,\n",
    "    role,\n",
    "    instance_count=1,\n",
    "    instance_type='ml.m5.4xlarge',\n",
    "    base_job_name=prefix,\n",
    "    hyperparameters=hyperparameters,\n",
    ")\n",
    "\n",
    "train_config = sagemaker.session.TrainingInput(f's3://{bucket}/train')\n",
    "\n",
    "est.fit({\"train\": train_config})"
   ]
  },
  {
   "cell_type": "markdown",
   "metadata": {},
   "source": [
    "Finally let us print out the trained FastAI model location. You will need this information for the inference step"
   ]
  },
  {
   "cell_type": "code",
   "execution_count": null,
   "metadata": {},
   "outputs": [],
   "source": [
    "print(f'FastAI Model located at \\n{est.output_path}{est._current_job_name}/output/model.tar.gz')"
   ]
  },
  {
   "cell_type": "markdown",
   "metadata": {},
   "source": [
    "### Attach to a training job that has been left to run \n",
    "\n",
    "If your kernel becomes disconnected and your training has already started, you can reattach to the training job.<br>\n",
    "Simply look up the training job name and replace the **your-training-job-name** and then run the cell below. <br>\n",
    "Once the training job is finished, you can continue the cells after the training cell"
   ]
  },
  {
   "cell_type": "code",
   "execution_count": null,
   "metadata": {},
   "outputs": [],
   "source": [
    "import sagemaker\n",
    "import boto3\n",
    "\n",
    "sess = sagemaker.Session()\n",
    "role = sagemaker.get_execution_role()\n",
    "\n",
    "training_job_name = 'your-training-job-name'\n",
    "\n",
    "if training_job_name != 'your-training-job-name':\n",
    "    est = sagemaker.estimator.Estimator.attach(training_job_name=training_job_name, sagemaker_session=sess)"
   ]
  },
  {
   "cell_type": "code",
   "execution_count": null,
   "metadata": {},
   "outputs": [],
   "source": []
  }
 ],
 "metadata": {
  "instance_type": "ml.t3.medium",
  "kernelspec": {
   "display_name": "Python 3 (Data Science)",
   "language": "python",
   "name": "python3__SAGEMAKER_INTERNAL__arn:aws:sagemaker:us-east-1:081325390199:image/datascience-1.0"
  },
  "language_info": {
   "codemirror_mode": {
    "name": "ipython",
    "version": 3
   },
   "file_extension": ".py",
   "mimetype": "text/x-python",
   "name": "python",
   "nbconvert_exporter": "python",
   "pygments_lexer": "ipython3",
   "version": "3.7.10"
  }
 },
 "nbformat": 4,
 "nbformat_minor": 4
}
